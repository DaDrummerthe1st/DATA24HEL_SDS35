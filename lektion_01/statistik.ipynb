{
 "cells": [
  {
   "cell_type": "markdown",
   "metadata": {},
   "source": [
    "# Statistik"
   ]
  },
  {
   "cell_type": "code",
   "execution_count": 9,
   "metadata": {},
   "outputs": [],
   "source": [
    "import numpy as np\n",
    "import pandas as pd\n",
    "import scipy.stats as st\n",
    "import matplotlib.pyplot as plt\n",
    "import seaborn as sns\n",
    "\n",
    "np.set_printoptions(precision=3, suppress=True, floatmode=\"fixed\", formatter={\"float\": np.format_float_positional})\n",
    "sns.set_theme(font_scale=.75, style=\"dark\")\n",
    "\n",
    "rng = np.random.default_rng(seed=42)\n",
    "data_folder = \"/home/linus/documents/datasets/\""
   ]
  },
  {
   "cell_type": "code",
   "execution_count": null,
   "metadata": {},
   "outputs": [],
   "source": [
    "# Klassens skostorlekar\n",
    "shoes = pd.DataFrame()\n",
    "shoes[\"data\"] = rng.normal(39, 6, 30).astype(int)"
   ]
  },
  {
   "cell_type": "markdown",
   "metadata": {},
   "source": [
    "## Sannolikhetsfördelning\n",
    "\n",
    "### Slumpvariabler\n",
    "Vilken skostorlek har en person? Det beror förstår på vilken person vi råkar fråga.\n",
    "\n",
    "Inom statistiken säger man att en persons skostorlek är en *slumpvariabel*.\n",
    "\n",
    "Det finns en viss mängd skostorlekar en person kan ha. Det innebär att skostorlek är en *diskret* slumpvariabel. Om vi tittar på exempelvis vikt eller längd kallas de *kontinuerliga* slumpvariabler eftersom de kan anta alla värden inom ett intervall. Det vill säga, en person kan inte ha 38,182 i skostorlek men kan vara 176,235 cm lång.\n",
    "\n",
    "\n",
    "### Utfallsrum\n",
    "De värden en slumpvariabel kan anta kallas för dess *utfallsrum*. Vi brukar skilja på själva slumpvariabeln $X$, och de värden den kan anta, $x$.\n",
    "\n",
    "### Sannolikhet\n",
    "Sannolikheten att slumpvariabeln $X$ antar värdet $x$ betecknas\n",
    "\n",
    "$p(x)$\n",
    "\n",
    "vilket också kallas för slumpvariabelns *sannolikhetsfördelning*.\n",
    "\n",
    "#### Exempel 1: Singla slant\n",
    "Ett klassiskt exempel på det här är att singla slant.\n",
    "\n",
    "Slumpvariabeln $X$ är resulatet av en slantsingling, och utfallsrummet $x$ är $\\{krona, klave\\}$.\n",
    "\n",
    "Summan av alla möjliga utfalls sannolikheter måste alltid bli $1$ eftersom något utfall måste ske. I fallet med slantsingling kan vi anta att det är lika stor sannolikhet att slumpvariabeln $X$ antar värdet $krona$ eller $klave$. \n",
    "\n",
    "$p(krona)$ är alltså $\\dfrac{1}{\\text{antal möjliga utfall}} = \\dfrac{1}{2} = 0.5$.\n",
    "\n",
    "\n",
    "#### Exempel 2: Kasta tärning\n",
    "Ett annat klassiskt exempel är att kasta tärning. En vanlig sexsidig tärning har utfallsrummet $\\{1, 2, 3, 4, 5, 6\\}$. \n",
    "\n",
    "Sannolikheten att man kastar en sexsidig tärning och den visar en sexa är alltså $\\dfrac{1}{6} \\approx 0,166$.\n",
    "\n",
    "Vi kan undersöka det här förhållandet genom att simulera ett antal tärningskast och undersöka fördelningen av resultat."
   ]
  },
  {
   "cell_type": "code",
   "execution_count": null,
   "metadata": {},
   "outputs": [],
   "source": [
    "# 1000 ger en statistisk uniformitet. \n",
    "# Med 10 kast påvisas att vissa siffror inte ens kommer med, än fler innebär ännu jämnare kurva\n",
    "n = 1000\n",
    "\n",
    "dice_rolls = rng.uniform(1, 7, n).astype(int) # Kasta en sexsidig tärning n gånger\n",
    "ax = sns.histplot(dice_rolls, stat=\"proportion\")\n",
    "ax.set(title=\"Fördelning av 1000 tärningskast\", xlabel=\"Resultat\", ylabel=\"Andel\");"
   ]
  },
  {
   "cell_type": "markdown",
   "metadata": {},
   "source": [
    "Andelarna ligger ganska samlade runt vår sannolikhet på $0,166$. Vi kan kolla hur många av våra tärningskast som blev sexor:"
   ]
  },
  {
   "cell_type": "code",
   "execution_count": null,
   "metadata": {},
   "outputs": [],
   "source": [
    "# Påvisar uniformiteten\n",
    "# 6 = ett av värdena ( i det gär fallet en sida på en p6 - sexisidig tärning)\n",
    "(dice_rolls == 6).sum()/n"
   ]
  },
  {
   "cell_type": "code",
   "execution_count": null,
   "metadata": {},
   "outputs": [],
   "source": [
    "# bins är antalet utfall\n",
    "# ett histogram bakar ihop i mängden bins \n",
    "shoes.data.hist(bins=15)"
   ]
  },
  {
   "cell_type": "markdown",
   "metadata": {},
   "source": [
    "När sannolikheten är lika stor för alla möjliga utfall kallas det för en *uniform fördelning*."
   ]
  },
  {
   "cell_type": "markdown",
   "metadata": {},
   "source": [
    "## Väntevärde och varians\n",
    "\n",
    "### Väntevärde\n",
    "Inom statistiken arbetar vi ofta med *stickprov*. Vi kan till exempel inte samla in data om hela befolkningen, men vi kan göra ett *urval* och låta det urvalet representera hela befolkningen. Urvalet urgör då ett stickprov av hela befolkningen.\n",
    "\n",
    "Om vi sedan vill beskriva vårt stickprov är det vanligt att vi använder *medelvärdet*, det vill säga summan av de observerade värdena, delat med antalet observationer. Vi kan beskriva det matematiskt med:\n",
    "\n",
    "$$ \\bar{x} = \\dfrac{\\sum x}{n} $$\n",
    "\n",
    "Väntevärdet för ett kast med en sexsidig tärning är summan av alla utfallen, delat på antalet utfall.\n",
    "\n",
    "$$E(X) = \\mu = \\dfrac{1+2+3+4+5+6}{6} = \\dfrac{21}{6} = 3,5$$"
   ]
  },
  {
   "cell_type": "code",
   "execution_count": null,
   "metadata": {},
   "outputs": [],
   "source": [
    "np.mean([1, 2, 3, 4, 5, 6])"
   ]
  },
  {
   "cell_type": "markdown",
   "metadata": {},
   "source": [
    "Om vi tar vår simulering av 1000 tärningskast och kollar medelvärdet ser vi att det ligger nära väntevärdet $3,5$."
   ]
  },
  {
   "cell_type": "code",
   "execution_count": null,
   "metadata": {},
   "outputs": [],
   "source": [
    "dice_rolls.mean()"
   ]
  },
  {
   "cell_type": "markdown",
   "metadata": {},
   "source": [
    "Vi kan också kolla på våra skostorlekar."
   ]
  },
  {
   "cell_type": "code",
   "execution_count": null,
   "metadata": {},
   "outputs": [],
   "source": [
    "shoes.data.mean()"
   ]
  },
  {
   "cell_type": "markdown",
   "metadata": {},
   "source": [
    "I genomsnitt har en person i klassen $\\bar{x}$ i skostorlek.\n",
    "\n",
    "Eftersom vi inte kan fråga alla personer i Sverige vad de har för skostorlek kan vi använda vår undersökning som ett stickprov. Medelvärdet av våra skostorlekar kan användas för att bilda oss en uppfattning om slumpvariabeln \"en slumpmässig persons skostorlek\". Medelvärdet för en slumpvariabel kallas för variabelns *väntevärde*.\n",
    "\n",
    "Medelvärdet kallas för ett *lägesmått* och brukar beskrivas med den grekiska bokstaven *mu*, $\\mu$ för hela populationen, och $\\bar{x}$ för ett stickprov.\n",
    "\n",
    "Skillnaden mellan $\\mu$ och $\\bar{x}$ är att $\\mu$ är okänd men konstant (det finns ett faktiskt svar, men det kan vara svårt att ta reda på) medan $\\bar{x}$ är en slumpvariabel vars värde beror på vilka observationer som råkar komma med i stickprovet.\n",
    "\n",
    "### Varians\n",
    "Medelvärdet är ett viktigt mått, men den säger inte allt! Ett annat viktigt värde för att förstå data är *variansen*, som är ett *spridningsmått*.\n",
    "\n",
    "Variansen beskriver hur stort avståndet i genomsnitt är mellan de olika värdena och medelvärdet - den är alltså i sig ett medelvärde.\n",
    "\n",
    "Även här skiljer vi på variansen i populationen, som beskrivs som den grekiska bokstaven *sigma* i kvadrat, $\\sigma^2$, och variansen i ett stickprov, $s^2$.\n",
    "\n",
    "Eftersom värden kan ligga både under och över medelvärdet brukar man *kvadrera* skillnaderna, det vill säga multiplicera dem med sig själva. Eftersom både negativa och positiva tal som multipliceras med sig själva blir positiva undviker vi att negativa och positiva skillnader \"tar ut\" varandra."
   ]
  },
  {
   "cell_type": "code",
   "execution_count": null,
   "metadata": {},
   "outputs": [],
   "source": [
    "x = np.linspace(0, 1, 4)\n",
    "y = np.array([4, 4, -4, -4])\n",
    "\n",
    "plt.scatter(x, y)\n",
    "plt.hlines(y=0, xmin=0, xmax=1, linestyles=\"--\")"
   ]
  },
  {
   "cell_type": "markdown",
   "metadata": {},
   "source": [
    "$$\\dfrac{4+4-4-4}{4}=0$$"
   ]
  },
  {
   "cell_type": "code",
   "execution_count": null,
   "metadata": {},
   "outputs": [],
   "source": [
    "(y - y.mean()).sum()/len(y)"
   ]
  },
  {
   "cell_type": "markdown",
   "metadata": {},
   "source": [
    "Resultatet av att summera alla värdens avstånd till medelvärdet blir väldigt litet om vi inte kvadrerar dem."
   ]
  },
  {
   "cell_type": "markdown",
   "metadata": {},
   "source": [
    "$$\\dfrac{4^2+4^2+(-4)^2+(-4)^2}{4}=16$$"
   ]
  },
  {
   "cell_type": "code",
   "execution_count": null,
   "metadata": {},
   "outputs": [],
   "source": [
    "((y - y.mean())**2).sum()/len(y)"
   ]
  },
  {
   "cell_type": "markdown",
   "metadata": {},
   "source": [
    "Vi kan använda metoden `var()` istället för att räkna ut variansen."
   ]
  },
  {
   "cell_type": "code",
   "execution_count": null,
   "metadata": {},
   "outputs": [],
   "source": [
    "dice_rolls.var()"
   ]
  },
  {
   "cell_type": "markdown",
   "metadata": {},
   "source": [
    "Vi kan göra samma sak med vår skodata."
   ]
  },
  {
   "cell_type": "code",
   "execution_count": null,
   "metadata": {},
   "outputs": [],
   "source": [
    "shoes.data.var(ddof=0) # ddof = delta degrees of freedom."
   ]
  },
  {
   "cell_type": "markdown",
   "metadata": {},
   "source": [
    "#### Stickprovsvariansen $s^2$\n",
    "Om vi arbetar med ett stickprov istället för en population behöver vi dela med $n-1$ istället för $n$.\n",
    "\n",
    "Om vi bara är intresserade av skostorlekarna bland de personer om varit med i undersökningen skulle vår data vara populationen. Om vi vill använda datan för att göra uppskattningar om en större population - YH-studenter, Sveriges befolkning, och så vidare - är det istället ett stickprov, och vi behöver räkna ut stickprovsvariansen.\n",
    "\n",
    "Metoden `var()` räknar ut stickprovsvariansen om vi inte säger till den något annat."
   ]
  },
  {
   "cell_type": "code",
   "execution_count": null,
   "metadata": {},
   "outputs": [],
   "source": [
    "((shoes.data - shoes.data.mean())**2).sum()/(len(shoes)-1)"
   ]
  },
  {
   "cell_type": "code",
   "execution_count": null,
   "metadata": {},
   "outputs": [],
   "source": [
    "shoes.data.var()"
   ]
  },
  {
   "cell_type": "markdown",
   "metadata": {},
   "source": [
    "Vi ser att variansen ökar när vi dividerar med $n-1$ eftersom vi introducerar en osäkerhet.\n",
    "\n",
    "### Standardavvikelsen\n",
    "\n",
    "Ett problem med variansen är att den inte är i samma *skala* som våra originalvärden. Den går alltså inte att tolka utifrån vår data. Därför pratar man ofta om *standardavvikelsen*, vilket är roten ur variansen. Standardavvikelsen för en population brukar beskrivas med den grekiska bokstaven *sigma*, $\\sigma$, och variansen som $\\sigma^2$.\n",
    "\n",
    "$$ \\sigma = \\sqrt{\\sum(x-\\mu)^2} $$\n",
    "\n",
    "Standardavvikelsen för våra tärningskast kan vi ta fram med metoden `std()`."
   ]
  },
  {
   "cell_type": "code",
   "execution_count": null,
   "metadata": {},
   "outputs": [],
   "source": [
    "dice_rolls.std()"
   ]
  },
  {
   "cell_type": "markdown",
   "metadata": {},
   "source": [
    "\n",
    "Standardavvikelsen för vår skodata är ungefär"
   ]
  },
  {
   "cell_type": "code",
   "execution_count": null,
   "metadata": {},
   "outputs": [],
   "source": [
    "np.sqrt(((shoes.data - shoes.data.mean())**2).sum()/(len(shoes)-1))"
   ]
  },
  {
   "cell_type": "code",
   "execution_count": null,
   "metadata": {},
   "outputs": [],
   "source": [
    "# varje person är ungefär 4.3 storlekar över eller under medelvärdet. Den är alltid likvärdigt avstånd från medelvärdet\n",
    "shoes.data.std()"
   ]
  },
  {
   "cell_type": "markdown",
   "metadata": {},
   "source": [
    "Medelvärdet och standardavvikelsen är så viktiga mått att de är med när vi kör metoden `describe()`."
   ]
  },
  {
   "cell_type": "code",
   "execution_count": null,
   "metadata": {},
   "outputs": [],
   "source": [
    "shoes.data.describe()"
   ]
  },
  {
   "cell_type": "markdown",
   "metadata": {},
   "source": [
    "### Begränsningar med väntevärde och varians\n",
    "\n",
    "Väntevärde och varians är som sagt viktiga mått för att kunna förstå sin data, men de säger inte allt! Ofta behöver vi titta på datan visuellt också.\n",
    "\n",
    "*Anscombe's quartet* består av fyra dataset som togs fram på 70-talet av statistikern Francis Anscombe. Om vi bara kollar på medelvärdena och standardavvikelserna ser de fyra dataseten likadana ut."
   ]
  },
  {
   "cell_type": "code",
   "execution_count": null,
   "metadata": {},
   "outputs": [],
   "source": [
    "data = sns.load_dataset(\"anscombe\")\n",
    "data.groupby(\"dataset\").mean()\n",
    "data.groupby(\"dataset\").std()"
   ]
  },
  {
   "cell_type": "markdown",
   "metadata": {},
   "source": [
    "Vi visualiserar dem också."
   ]
  },
  {
   "cell_type": "code",
   "execution_count": null,
   "metadata": {},
   "outputs": [],
   "source": [
    "sns.relplot(data, x=\"x\", y=\"y\", col=\"dataset\", col_wrap=2, height=3)"
   ]
  },
  {
   "cell_type": "markdown",
   "metadata": {},
   "source": [
    "## Den relativa frekvensens stabilitet\n",
    "\n",
    "Ju fler försök vi gör, det vill säga ju större stickprov vi har, desto mer kommer den *relativa frekvensen* att stabilisera sig kring ett visst tal.\n",
    "\n",
    "Tidigare såg vi att väntevärdet för ett tärningskast med en sexsidig tärning är $3,5$.\n",
    "\n",
    "Vi kan undersöka hur medelvärdet förändras med fler försök."
   ]
  },
  {
   "cell_type": "code",
   "execution_count": null,
   "metadata": {},
   "outputs": [],
   "source": [
    "x = np.arange(1, 1001)\n",
    "fig, ax = plt.subplots(figsize=(10, 5))\n",
    "ax = sns.lineplot(y=dice_rolls.cumsum()/x, x=x, alpha=.75, ax=ax)\n",
    "ax.hlines(xmin=1, xmax=1000, y=3.5, color=\"k\", linestyles=\"--\", alpha=.5)\n",
    "ax.set(\n",
    "    title=\"Medelvärdet av resultaten närmar sig väntevärdet 3,5\",\n",
    "    xlabel=\"Antal tärningskast\",\n",
    "    ylabel=\"Resultat (medelvärde)\",\n",
    ");"
   ]
  },
  {
   "cell_type": "markdown",
   "metadata": {},
   "source": [
    "## Normalfördelningen"
   ]
  },
  {
   "cell_type": "markdown",
   "metadata": {},
   "source": [
    "Väldigt många företeelser, i naturen och i våra samhällen, kan beskrivas med *normalfördelningen*.\n",
    "\n",
    "Om vi singlar slant 100 gånger kan vi förvänta oss att vi kommer att få $krona$ ungefär 50 gånger. Om vi simulerar de här 100 slantsinglingarna *flera gånger* och undersöker antalet $krona$ kommer vi se att det är normalfördelat med medelvärdet 50.\n",
    "\n",
    "Det här kallas för den *centrala gränsvärdessatsen* och är väldigt användbar när vi sysslar med statistik och dataanalys."
   ]
  },
  {
   "cell_type": "code",
   "execution_count": null,
   "metadata": {},
   "outputs": [],
   "source": [
    "coin_tosses = rng.binomial(100, .5, 10000) # Singla 100 slantar 1000 gånger\n",
    "ax = sns.histplot(coin_tosses, bins=10, kde=True)\n",
    "ax.set(title=\"Fördelning av antal krona efter 100 slantsinglingar utförda 10 000 gånger.\", xlabel=\"Antal krona\", ylabel=\"Frekvens\");"
   ]
  },
  {
   "cell_type": "code",
   "execution_count": null,
   "metadata": {},
   "outputs": [],
   "source": [
    "ax = sns.histplot(shoes, kde=True)\n",
    "ax.set(title=\"Fördelning av skostorlekar\")"
   ]
  },
  {
   "cell_type": "markdown",
   "metadata": {},
   "source": [
    "Python-biblioteket *scipy* har en modul som heter `stats`, som har en del objekt och funktioner som vi kan använda när vi arbetar med statistik.\n",
    "\n",
    "Bland annat kan vi skapa en normalfördelning och ange $\\mu$ och $\\sigma$."
   ]
  },
  {
   "cell_type": "code",
   "execution_count": null,
   "metadata": {},
   "outputs": [],
   "source": [
    "dist = st.Normal(mu=shoes.data.mean(), sigma=shoes.data.std())\n",
    "ax = dist.plot()\n",
    "sns.kdeplot(shoes, linestyle=\"--\", label=\"Skostorlekar\", ax=ax)\n",
    "ax.set(title=\"Normalfördelning med medelvärde och standardfördelning från skostorlek-datan\");"
   ]
  },
  {
   "cell_type": "markdown",
   "metadata": {},
   "source": [
    "## Konfidensintervall\n",
    "\n",
    "Hur vet vi att vårt stickprov är representativt för populationen? Om värdena vi undersöker är normalfördelade kan vi använda *konfidensintervall*.\n",
    "\n",
    "Vi utgår från en variabel som är normalfördelad med väntevärdet $\\mu$ och standardavvikelsen $\\sigma$.\n",
    "\n",
    "Då är ett stickprov med $n$ observationer gäller att stickprovets medelvärde $\\bar{X}$ är normalfördelat med väntevärdet $\\mu$ och standardavvikelsen $\\frac{\\sigma}{\\sqrt{n}}$\n",
    "\n",
    "Så som normalfördelningen fungerar kan vi visa att stickprovets medelvärde $\\bar{X}$ med sannolikheten 95 procent antar ett värde mellan $\\mu - 1,96 \\cdot \\dfrac{\\sigma}{\\sqrt{n}}$ och $\\mu + 1,96 \\cdot \\dfrac{\\sigma}{\\sqrt{n}}$.\n",
    "\n",
    "Värdet $1,96$ kommer från hur normalfördelningen fungerar.\n",
    "\n",
    "### Exempel på konfidensintervall\n",
    "\n",
    "Nedan följer ett exempel för att visa hur konfidensintervall fungerar. "
   ]
  },
  {
   "cell_type": "code",
   "execution_count": 102,
   "metadata": {},
   "outputs": [],
   "source": [
    "n = 100\n",
    "x = rng.normal(0, 5, n)\n",
    "y = np.arange(n)\n",
    "low, high = st.norm.interval(.95, x.mean(), x.std())\n",
    "low = x + low\n",
    "high = x + high\n",
    "in_interval = [\"g\" if b else \"r\" for b in list((low < 0) & (high > 0))]\n",
    "# \"g\" if ((low < 0) & (high > 0)) else \"r\""
   ]
  },
  {
   "cell_type": "markdown",
   "metadata": {},
   "source": [
    "Vi genererar data, `x`, som innehåller 100 normalfördelade värden med $\\mu = 0$ och $\\sigma = 5$."
   ]
  },
  {
   "cell_type": "code",
   "execution_count": null,
   "metadata": {},
   "outputs": [],
   "source": [
    "ax = sns.kdeplot(x=x)\n",
    "ax.set(title=\"Fördelning av värden i x\", xlabel=\"x\")"
   ]
  },
  {
   "cell_type": "markdown",
   "metadata": {},
   "source": [
    "\n",
    "Vi använder `interval()`-funktionen från `scipy.stats` för att få fram konfidensintervallet för fördelningen.\n",
    "\n",
    "Sedan kan vi för varje observerat värde undersöka om medelvärdet 0 är med i konfidensintervallet. Vi förväntar oss att ungefär 5 av våra observerade värden kommer att vara utanför konfidensintervallet efter som vi har satt det till 95%.\n",
    "\n",
    "Vi plottar resultatet nedan. Varje prick är en observation i `x` med tillhörande konfidensintervall (linjen). De observationer vars konfidensintervall inte innehåller det faktiska medelvärdet 0 är rödmarkerade."
   ]
  },
  {
   "cell_type": "code",
   "execution_count": null,
   "metadata": {},
   "outputs": [],
   "source": [
    "fig, ax = plt.subplots(figsize=(8, 8))\n",
    "ax.vlines(x=0, ymin=-1, ymax=n + 1, colors=\"k\", linestyles=\"--\", alpha=.25)\n",
    "ax.hlines(y=y, xmin=low, xmax=high, colors=in_interval)\n",
    "ax.scatter(x=x, y=y, s=5, c=in_interval, alpha=.75)\n",
    "ax.set(xlim=(-25, 25))"
   ]
  }
 ],
 "metadata": {
  "kernelspec": {
   "display_name": ".venv",
   "language": "python",
   "name": "python3"
  },
  "language_info": {
   "codemirror_mode": {
    "name": "ipython",
    "version": 3
   },
   "file_extension": ".py",
   "mimetype": "text/x-python",
   "name": "python",
   "nbconvert_exporter": "python",
   "pygments_lexer": "ipython3",
   "version": "3.13.0"
  }
 },
 "nbformat": 4,
 "nbformat_minor": 2
}
