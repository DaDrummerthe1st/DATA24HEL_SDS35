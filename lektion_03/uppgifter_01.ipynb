{
 "cells": [
  {
   "cell_type": "markdown",
   "metadata": {},
   "source": [
    "# Övningsuppgifter i statistik\n",
    "\n",
    "Läs in datasetet `diamonds` från Seaborn med `load_dataset()`-funktionen.\n",
    "\n",
    "Undersök datasetet! Vilka variabler (kolumner) finns i datasetet? Vilken variabel tänker du är den beroende variabeln? \n",
    "\n",
    "Ta reda på medelvärde, varians och standardavvikelse för de olika variablerna.\n",
    "\n",
    "Undersök hur värdena är fördelade i de olika kolumnerna (boxplots och histogram är bra verktyg!).\n",
    "\n",
    "Titta på korrelationerna mellan de olika variablerna. Kolla på hur man gör en *heatmap* i Seaborn med en korrelationsmatris som data.\n"
   ]
  },
  {
   "cell_type": "markdown",
   "metadata": {},
   "source": []
  }
 ],
 "metadata": {
  "kernelspec": {
   "display_name": ".venv",
   "language": "python",
   "name": "python3"
  },
  "language_info": {
   "codemirror_mode": {
    "name": "ipython",
    "version": 3
   },
   "file_extension": ".py",
   "mimetype": "text/x-python",
   "name": "python",
   "nbconvert_exporter": "python",
   "pygments_lexer": "ipython3",
   "version": "3.13.0"
  }
 },
 "nbformat": 4,
 "nbformat_minor": 2
}
