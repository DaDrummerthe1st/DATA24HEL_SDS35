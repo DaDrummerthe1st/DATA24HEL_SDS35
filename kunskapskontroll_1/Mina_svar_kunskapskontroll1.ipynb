{
 "cells": [
  {
   "cell_type": "markdown",
   "metadata": {},
   "source": [
    "## Kunskapskontroll 1\n",
    "**Student:** Joakim Reuterborg"
   ]
  },
  {
   "cell_type": "markdown",
   "metadata": {
    "vscode": {
     "languageId": "plaintext"
    }
   },
   "source": [
    "### Fråga 1:\n",
    "Finns det en korrelation mellan antalet storkar och antalet födda barn?"
   ]
  },
  {
   "cell_type": "markdown",
   "metadata": {
    "vscode": {
     "languageId": "plaintext"
    }
   },
   "source": [
    "**Svar:**<br>\n",
    "Man kan se en viss korrelation men ingen kausalitet eftersom storkar bevisligen inte transporterar människobarn"
   ]
  },
  {
   "cell_type": "markdown",
   "metadata": {
    "vscode": {
     "languageId": "plaintext"
    }
   },
   "source": [
    "### Fråga 2:\n",
    "Korrelation påvisar sambandet mellan förklarande variabel och responsvariabel i ett n-dimensionellt diagram, oftast spridningsdiagram.\n",
    "\n",
    "Kort sagt - ser man massa prickar kan man ibland avgöra att dessa har ett samband till varandra - men inte nödvändigtvis vad orsaken till detta är. X-axeln (den vågräta, förklarande variabeln) o Y-axeln (den lodräta, responsvariabeln) representerar de olika värdena på respektive variabel\n",
    "\n",
    "Lutningen och riktningen på sambandet är väsentliga i de fall man kan se en korrelation, vars tydlighet kan beräknas."
   ]
  },
  {
   "cell_type": "markdown",
   "metadata": {},
   "source": [
    "#### Rad 1\n",
    "I bilderna kan vi på den översta raden från vänster först se en tydlig **positiv korrelation**: respektive variabel ökar i värde och linjen pekar till synes 45° uppåt/höger\n",
    "\n",
    "**Svag positiv korrelation** - till - **ingen korrelation** - till - **svag negativ korrelation** påvisr de fem mittersta spridningsdiagrammen\n",
    "\n",
    "**Stark negativ korrelation** påvisar det sista spridningsdiagrammet"
   ]
  },
  {
   "cell_type": "markdown",
   "metadata": {},
   "source": [
    "#### Rad 2\n",
    "Här är samtliga spridningsdiagrammen så tydliga i sin riktning att det nästan är osannolikt bra data."
   ]
  },
  {
   "cell_type": "markdown",
   "metadata": {},
   "source": [
    "#### Rad 3\n",
    "Dessa spridningsdiagram, även om formerna är intressanta o underhållande, påvisar ingen korrelation men man kanske skulle kunna utröna en kausalitet om man visste vad respektive variabel stod för"
   ]
  },
  {
   "cell_type": "markdown",
   "metadata": {},
   "source": [
    "### Fråga 3\n",
    "Jag håller med Fredrik o hela hans spelklubb.\n",
    "Däremot gällande att medelvärdet skulle vara ett bättre mått än medianvärdet är inget man kan bekräfta eller dementer, eftersom det handlar om vad man använder det till."
   ]
  },
  {
   "cell_type": "markdown",
   "metadata": {},
   "source": [
    "### Fråga 4\n",
    "Cirkeldiagram är fenomenala för att jämföra hur olika diskreta värden återfinns i olika utsträckning. Grafiken är en rund ost / tårta där triangelformade tårtbitar utgör en förevisad procentuell del av den totala omkretsen "
   ]
  },
  {
   "cell_type": "markdown",
   "metadata": {
    "vscode": {
     "languageId": "plaintext"
    }
   },
   "source": [
    "### Slutuppgifter\n",
    "1. Vad har varit roligast i kunskapskontrollen? <br>\n",
    "**Svar:**<br>\n",
    "<br>\n",
    "\n",
    "\n",
    "2. Vilket betyg anser du att du ska ha och varför?  <br>\n",
    "**Svar:**<br>\n",
    "<br>\n",
    "\n",
    "\n",
    "3. Vad har varit mest utmanande i arbetet och hur har du hanterat det? <br>\n",
    "**Svar:**<br>\n",
    "<br>\n",
    "\n"
   ]
  }
 ],
 "metadata": {
  "language_info": {
   "name": "python"
  }
 },
 "nbformat": 4,
 "nbformat_minor": 2
}
